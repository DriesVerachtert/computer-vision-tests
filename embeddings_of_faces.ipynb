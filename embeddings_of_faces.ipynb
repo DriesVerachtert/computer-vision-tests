{
 "cells": [
  {
   "cell_type": "markdown",
   "metadata": {},
   "source": [
    "# Create embeddings of faces\n",
    "\n",
    "Some small tests for creating embeddings of some faces, before testing this on our archive of terabytes of fotos.\n",
    "\n",
    "Goal:\n",
    "* Get embeddings of faces\n",
    "* Store in some vectorstore\n",
    "* Get some stats from the collected embeddings: number of unique faces, number of embeddings per face\n"
   ]
  },
  {
   "cell_type": "code",
   "execution_count": 12,
   "metadata": {},
   "outputs": [],
   "source": [
    "from deepface import DeepFace\n",
    "import matplotlib.pyplot as plt\n",
    "from matplotlib.axes import Axes\n",
    "import numpy as np\n",
    "import typing"
   ]
  },
  {
   "cell_type": "code",
   "execution_count": 2,
   "metadata": {},
   "outputs": [],
   "source": [
    "img1_name: str = 'test_files/test-image-carolien-montreux-2018.jpg'\n",
    "img2_name: str = 'test_files/test-image-carolien-geneva-2018.jpg'\n",
    "img3_name: str = 'test_files/test-image-carolien-bern-2018-with-child.jpg'"
   ]
  },
  {
   "cell_type": "code",
   "execution_count": 14,
   "metadata": {},
   "outputs": [
    {
     "name": "stdout",
     "output_type": "stream",
     "text": [
      "Length of embedding: 4096\n",
      "Face detected at {'x': 519, 'y': 132, 'w': 264, 'h': 264}\n",
      "Face was detected with confidence 10.562721127585974\n"
     ]
    }
   ],
   "source": [
    "embedding_objs: typing.List[typing.Dict[str,typing.Any]] = DeepFace.represent(img_path = img3_name)\n",
    "for detected_embedding in embedding_objs:\n",
    "  embedding: typing.List[float] = detected_embedding['embedding']\n",
    "  print(f\"Length of embedding: {len(embedding)}\")\n",
    "  facial_area: typing.Dict[str,int] = detected_embedding['facial_area']\n",
    "  print(f\"Face detected at {facial_area}\")\n",
    "  face_confidence: np.float64 = detected_embedding['face_confidence']\n",
    "  print(f\"Face was detected with confidence {face_confidence}\")\n"
   ]
  }
 ],
 "metadata": {
  "kernelspec": {
   "display_name": "venv",
   "language": "python",
   "name": "python3"
  },
  "language_info": {
   "codemirror_mode": {
    "name": "ipython",
    "version": 3
   },
   "file_extension": ".py",
   "mimetype": "text/x-python",
   "name": "python",
   "nbconvert_exporter": "python",
   "pygments_lexer": "ipython3",
   "version": "3.11.7"
  }
 },
 "nbformat": 4,
 "nbformat_minor": 2
}
